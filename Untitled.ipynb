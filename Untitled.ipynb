{
 "cells": [
  {
   "cell_type": "code",
   "execution_count": 4,
   "metadata": {},
   "outputs": [],
   "source": [
    "from bs4 import BeautifulSoup\n",
    "import requests"
   ]
  },
  {
   "cell_type": "code",
   "execution_count": 92,
   "metadata": {},
   "outputs": [],
   "source": [
    "response = requests.get('https://www.webmd.com/drugs/2/drug-5166-9368/ibuprofen-oral/ibuprofen-oral/details')\n"
   ]
  },
  {
   "cell_type": "code",
   "execution_count": 93,
   "metadata": {},
   "outputs": [
    {
     "name": "stderr",
     "output_type": "stream",
     "text": [
      "/Users/forest.polchow/anaconda3/lib/python3.6/site-packages/bs4/__init__.py:181: UserWarning: No parser was explicitly specified, so I'm using the best available HTML parser for this system (\"lxml\"). This usually isn't a problem, but if you run this code on another system, or in a different virtual environment, it may use a different parser and behave differently.\n",
      "\n",
      "The code that caused this warning is on line 193 of the file /Users/forest.polchow/anaconda3/lib/python3.6/runpy.py. To get rid of this warning, change code that looks like this:\n",
      "\n",
      " BeautifulSoup(YOUR_MARKUP})\n",
      "\n",
      "to this:\n",
      "\n",
      " BeautifulSoup(YOUR_MARKUP, \"lxml\")\n",
      "\n",
      "  markup_type=markup_type))\n"
     ]
    }
   ],
   "source": [
    "soup = BeautifulSoup(response.content)"
   ]
  },
  {
   "cell_type": "code",
   "execution_count": 94,
   "metadata": {},
   "outputs": [
    {
     "data": {
      "text/plain": [
       "<h2>Uses</h2>"
      ]
     },
     "execution_count": 94,
     "metadata": {},
     "output_type": "execute_result"
    }
   ],
   "source": [
    "soup.find('h2')"
   ]
  },
  {
   "cell_type": "code",
   "execution_count": 95,
   "metadata": {},
   "outputs": [],
   "source": [
    "x = soup.findChildren('div',{'class':'inner-content'})"
   ]
  },
  {
   "cell_type": "code",
   "execution_count": 96,
   "metadata": {},
   "outputs": [
    {
     "data": {
      "text/plain": [
       "6"
      ]
     },
     "execution_count": 96,
     "metadata": {},
     "output_type": "execute_result"
    }
   ],
   "source": [
    "len(x)"
   ]
  },
  {
   "cell_type": "code",
   "execution_count": 98,
   "metadata": {},
   "outputs": [
    {
     "data": {
      "text/plain": [
       "<div class=\"inner-content\">\n",
       "<h2>Uses</h2><p><a chronic_id=\"\" class=\"crossLinked\" crosslinkid=\"65523\" crosslinknumber=\"-1\" crosslinktype=\"Article\" directive=\"friendlyurl\" externalid=\"9368\" href=\"https://www.webmd.com/drugs/mono-9368-IBUPROFEN+-+ORAL.aspx?drugid=5166&amp;drugname=ibuprofen+oral\" keywordid=\"53999\" keywordsetid=\"7679\" object_type=\"wbmd_pb_page\">Ibuprofen</a> is used to relieve pain from various conditions such as <a chronic_id=\"091e9c5e8002394a\" class=\"crossLinked\" crosslinkid=\"189\" crosslinknumber=\"1\" crosslinktype=\"Article\" directive=\"friendlyurl\" externalid=\"091e9c5e8002394a\" href=\"https://www.webmd.com/migraines-headaches/default.htm\" keywordid=\"95957\" keywordsetid=\"9344\" object_type=\"wbmd_pb_page\">headache</a>, dental pain, <a chronic_id=\"091e9c5e80007eae\" class=\"crossLinked\" crosslinkid=\"1587145\" crosslinknumber=\"0\" crosslinktype=\"Article\" directive=\"friendlyurl\" externalid=\"091e9c5e80007eae\" href=\"https://www.webmd.com/women/menstrual-cramps\" keywordid=\"108690\" keywordsetid=\"47146\" object_type=\"wbmd_pb_page\">menstrual cramps</a>, muscle aches, or <a chronic_id=\"091e9c5e80034dea\" class=\"crossLinked\" crosslinkid=\"1585266\" crosslinknumber=\"2\" crosslinktype=\"Article\" directive=\"friendlyurl\" externalid=\"091e9c5e80034dea\" href=\"https://www.webmd.com/arthritis/default.htm\" keywordid=\"6865\" keywordsetid=\"818\" object_type=\"wbmd_pb_page\">arthritis</a>. It is also used to reduce fever and to relieve minor aches and pain due to the <a chronic_id=\"091e9c5e80022f49\" class=\"crossLinked\" crosslinkid=\"521\" crosslinknumber=\"3\" crosslinktype=\"Article\" directive=\"friendlyurl\" externalid=\"091e9c5e80022f49\" href=\"https://www.webmd.com/cold-and-flu/default.htm\" keywordid=\"33353\" keywordsetid=\"1010\" object_type=\"wbmd_pb_page\">common cold</a> or <a chronic_id=\"091e9c5e80022f49\" class=\"crossLinked\" crosslinkid=\"521\" crosslinknumber=\"7\" crosslinktype=\"Article\" directive=\"friendlyurl\" externalid=\"091e9c5e80022f49\" href=\"https://www.webmd.com/cold-and-flu/default.htm\" keywordid=\"33354\" keywordsetid=\"1010\" object_type=\"wbmd_pb_page\">flu</a>. Ibuprofen is a nonsteroidal anti-inflammatory drug (NSAID). It works by blocking your body's production of certain natural substances that cause <a chronic_id=\"091e9c5e800a707d\" class=\"crossLinked\" crosslinkid=\"1585207\" crosslinknumber=\"4\" crosslinktype=\"Article\" directive=\"friendlyurl\" externalid=\"091e9c5e800a707d\" href=\"https://www.webmd.com/arthritis/about-inflammation\" keywordid=\"94893\" keywordsetid=\"41497\" object_type=\"wbmd_pb_page\">inflammation</a>. This effect helps to decrease swelling, pain, or fever.</p><p>If you are treating a chronic condition such as <a chronic_id=\"091e9c5e800ccb1f\" class=\"crossLinked\" crosslinkid=\"1596794\" crosslinknumber=\"6\" crosslinktype=\"Video\" directive=\"friendlyurl\" externalid=\"091e9c5e800ccb1f\" href=\"https://www.webmd.com/arthritis/video/rippe-arthritis-any-age\" keywordid=\"6865\" keywordsetid=\"818\" object_type=\"wbmd_pb_page\">arthritis</a>, ask your doctor about non-drug treatments and/or using other <a chronic_id=\"\" class=\"crossLinked\" crosslinkid=\"31476\" crosslinknumber=\"5\" crosslinktype=\"Article\" directive=\"friendlyurl\" externalid=\"09D1C68D81D74991\" href=\"https://www.webmd.com/drugs/index-drugs.aspx\" keywordid=\"34732\" keywordsetid=\"8684\" object_type=\"wbmd_pb_page\">medications</a> to treat your pain. See also Warning section.</p><p>Check the ingredients on the label even if you have used the product before. The manufacturer may have changed the ingredients. Also, products with similar names may contain different ingredients meant for different purposes. Taking the wrong product could harm you.</p><div class=\"monograph-drug-use\">\n",
       "<h3>How to use Ibuprofen</h3><p>If you are taking the over-the-counter product, read all directions on the product package before taking this <a chronic_id=\"\" class=\"crossLinked\" crosslinkid=\"31476\" crosslinknumber=\"-1\" crosslinktype=\"Article\" directive=\"friendlyurl\" externalid=\"09D1C68D81D74991\" href=\"https://www.webmd.com/drugs/index-drugs.aspx\" keywordid=\"34731\" keywordsetid=\"8684\" object_type=\"wbmd_pb_page\">medication</a>. If your doctor has prescribed this medication, read the Medication Guide provided by your <a chronic_id=\"091e9c5e80442749\" class=\"crossLinked\" crosslinkid=\"73267\" crosslinknumber=\"0\" crosslinktype=\"Article\" directive=\"friendlyurl\" externalid=\"091e9c5e80442749\" href=\"https://www.webmd.com/a-to-z-guides/features/pharmacists-they-do-more-than-fill-prescriptions\" keywordid=\"114955\" keywordsetid=\"50353\" object_type=\"wbmd_pb_page\">pharmacist</a> before you start taking <a chronic_id=\"\" class=\"crossLinked\" crosslinkid=\"65523\" crosslinknumber=\"1\" crosslinktype=\"Article\" directive=\"friendlyurl\" externalid=\"9368\" href=\"https://www.webmd.com/drugs/mono-9368-IBUPROFEN+-+ORAL.aspx?drugid=5166&amp;drugname=ibuprofen+oral\" keywordid=\"53999\" keywordsetid=\"7679\" object_type=\"wbmd_pb_page\">ibuprofen</a> and each time you get a refill. If you have any questions, ask your doctor or pharmacist.</p><p>Take this medication by <a chronic_id=\"091e9c5e8001e920\" class=\"crossLinked\" crosslinkid=\"1539989\" crosslinknumber=\"2\" crosslinktype=\"Article\" directive=\"friendlyurl\" externalid=\"091e9c5e8001e920\" href=\"https://www.webmd.com/oral-health/anatomy-of-the-mouth\" keywordid=\"93494\" keywordsetid=\"40982\" object_type=\"wbmd_pb_page\">mouth</a>, usually every 4 to 6 hours with a full glass of water (8 ounces/240 milliliters) unless your doctor directs you otherwise. Do not lie down for at least 10 minutes after taking this drug. If you have <a chronic_id=\"091e9c5e8035ee80\" class=\"crossLinked\" crosslinkid=\"70401\" crosslinknumber=\"3\" crosslinktype=\"Article\" directive=\"friendlyurl\" externalid=\"091e9c5e8035ee80\" href=\"https://www.webmd.com/digestive-disorders/picture-of-the-stomach\" keywordid=\"58694\" keywordsetid=\"25972\" object_type=\"wbmd_pb_page\">stomach</a> upset while taking this medication, take it with food, milk, or an antacid.</p><p>The dosage is based on your medical condition and response to treatment. To reduce your risk of <a chronic_id=\"091e9c5e8137f6c2\" class=\"crossLinked\" crosslinkid=\"1898888\" crosslinknumber=\"4\" crosslinktype=\"Tools\" directive=\"friendlyurl\" externalid=\"091e9c5e8137f6c2\" href=\"https://www.webmd.com/digestive-disorders/rm-quiz-surprising-stomach-facts\" keywordid=\"58694\" keywordsetid=\"25972\" object_type=\"wbmd_pb_page\">stomach</a> bleeding and other side effects, take this medication at the lowest effective dose for the shortest possible time. Do not increase your dose or take this drug more often than directed by your doctor or the package label. For ongoing conditions such as <a chronic_id=\"091e9c5e80034dea\" class=\"crossLinked\" crosslinkid=\"1585266\" crosslinknumber=\"5\" crosslinktype=\"Article\" directive=\"friendlyurl\" externalid=\"091e9c5e80034dea\" href=\"https://www.webmd.com/arthritis/default.htm\" keywordid=\"6865\" keywordsetid=\"818\" object_type=\"wbmd_pb_page\">arthritis</a>, continue taking this medication as directed by your doctor.</p><p>When ibuprofen is used by children, the dose is based on the child's <a chronic_id=\"091e9c5e8001d084\" class=\"crossLinked\" crosslinkid=\"50064\" crosslinknumber=\"9\" crosslinktype=\"Article\" directive=\"friendlyurl\" externalid=\"091e9c5e8001d084\" href=\"https://www.webmd.com/diet/tc/healthy-weight-what-is-a-healthy-weight\" keywordid=\"35927\" keywordsetid=\"8910\" object_type=\"wbmd_pb_page\">weight</a>. Read the package directions to find the proper dose for your child's <a chronic_id=\"091e9c5e816856bb\" class=\"crossLinked\" crosslinkid=\"1903515\" crosslinknumber=\"10\" crosslinktype=\"Article\" directive=\"friendlyurl\" externalid=\"091e9c5e816856bb\" href=\"https://www.webmd.com/diet/obesity/healthy-weight\" keywordid=\"35927\" keywordsetid=\"8910\" object_type=\"wbmd_pb_page\">weight</a>. Consult the pharmacist or doctor if you have questions or if you need help choosing a nonprescription product.</p><p>For certain conditions (such as <a chronic_id=\"091e9c5e800ccb1f\" class=\"crossLinked\" crosslinkid=\"1596794\" crosslinknumber=\"8\" crosslinktype=\"Video\" directive=\"friendlyurl\" externalid=\"091e9c5e800ccb1f\" href=\"https://www.webmd.com/arthritis/video/rippe-arthritis-any-age\" keywordid=\"6865\" keywordsetid=\"818\" object_type=\"wbmd_pb_page\">arthritis</a>), it may take up to two weeks of taking this drug regularly until you get the full benefit.</p><p>If you are taking this drug \"as needed\" (not on a regular schedule), remember that pain <a chronic_id=\"\" class=\"crossLinked\" crosslinkid=\"31476\" crosslinknumber=\"7\" crosslinktype=\"Article\" directive=\"friendlyurl\" externalid=\"09D1C68D81D74991\" href=\"https://www.webmd.com/drugs/index-drugs.aspx\" keywordid=\"34732\" keywordsetid=\"8684\" object_type=\"wbmd_pb_page\">medications</a> work best if they are used as the first <a chronic_id=\"\" class=\"crossLinked\" crosslinkid=\"31730\" crosslinknumber=\"6\" crosslinktype=\"Article\" directive=\"friendlyurl\" externalid=\"F5893D4FEE5841D4\" href=\"https://www.webmd.com/pain-management/guide/pain-management-symptoms-types\" keywordid=\"41306\" keywordsetid=\"10006\" object_type=\"wbmd_pb_page\">signs of pain</a> occur. If you wait until the pain has worsened, the medication may not work as well.</p><p>If your condition persists or worsens, or if you think you may have a serious medical problem, get medical help right away. If you are using the nonprescription product to treat yourself or a child for fever or pain, consult the doctor right away if fever worsens or lasts more than 3 days, or if pain worsens or lasts more than 10 days.</p></div>\n",
       "<div class=\"monograph-related-links\" data-metrics-module=\"dr-submono\">\n",
       "<h3>Related Links</h3>\n",
       "<p><a data-metrics-link=\"uses\" href=\"/drugs/2/drug-5166-9368/ibuprofen-oral/ibuprofen-oral/details/list-conditions\">What conditions does Ibuprofen treat?</a></p>\n",
       "</div>\n",
       "<div class=\"rx-lowest-price\" data-metrics-module=\"wrx-drug-monotab\"><a class=\"rx-lowest-btn\" data-metrics-link=\"ibuprofen\" href=\"https://www.webmd.com/rx/6610002000/ibuprofen\">Find Lowest Prices</a></div>\n",
       "</div>"
      ]
     },
     "execution_count": 98,
     "metadata": {},
     "output_type": "execute_result"
    }
   ],
   "source": [
    "x[0]"
   ]
  },
  {
   "cell_type": "code",
   "execution_count": 34,
   "metadata": {},
   "outputs": [
    {
     "data": {
      "text/plain": [
       "bs4.element.Tag"
      ]
     },
     "execution_count": 34,
     "metadata": {},
     "output_type": "execute_result"
    }
   ],
   "source": [
    "type(x[0])"
   ]
  },
  {
   "cell_type": "code",
   "execution_count": 99,
   "metadata": {},
   "outputs": [],
   "source": [
    "y = x[0]"
   ]
  },
  {
   "cell_type": "code",
   "execution_count": 45,
   "metadata": {
    "scrolled": true
   },
   "outputs": [
    {
     "data": {
      "text/plain": [
       "11"
      ]
     },
     "execution_count": 45,
     "metadata": {},
     "output_type": "execute_result"
    }
   ],
   "source": [
    "len(y.findChildren('p'))"
   ]
  },
  {
   "cell_type": "code",
   "execution_count": 101,
   "metadata": {},
   "outputs": [
    {
     "data": {
      "text/plain": [
       "[]"
      ]
     },
     "execution_count": 101,
     "metadata": {},
     "output_type": "execute_result"
    }
   ],
   "source": [
    "y.find_all('a',{'chronic_id'})"
   ]
  },
  {
   "cell_type": "code",
   "execution_count": 80,
   "metadata": {},
   "outputs": [],
   "source": [
    "paragraphs = y.findChild('p')"
   ]
  },
  {
   "cell_type": "code",
   "execution_count": 83,
   "metadata": {},
   "outputs": [],
   "source": [
    "sibs =paragraphs.findNextSiblings()"
   ]
  },
  {
   "cell_type": "code",
   "execution_count": 84,
   "metadata": {},
   "outputs": [
    {
     "data": {
      "text/plain": [
       "5"
      ]
     },
     "execution_count": 84,
     "metadata": {},
     "output_type": "execute_result"
    }
   ],
   "source": [
    "len(sibs)"
   ]
  },
  {
   "cell_type": "code",
   "execution_count": 90,
   "metadata": {},
   "outputs": [
    {
     "data": {
      "text/plain": [
       "<p>If you are treating a chronic condition such as <a chronic_id=\"091e9c5e800ccb1f\" class=\"crossLinked\" crosslinkid=\"1596794\" crosslinknumber=\"6\" crosslinktype=\"Video\" directive=\"friendlyurl\" externalid=\"091e9c5e800ccb1f\" href=\"https://www.webmd.com/arthritis/video/rippe-arthritis-any-age\" keywordid=\"6865\" keywordsetid=\"818\" object_type=\"wbmd_pb_page\">arthritis</a>, ask your doctor about non-drug treatments and/or using other <a chronic_id=\"\" class=\"crossLinked\" crosslinkid=\"31476\" crosslinknumber=\"5\" crosslinktype=\"Article\" directive=\"friendlyurl\" externalid=\"09D1C68D81D74991\" href=\"https://www.webmd.com/drugs/index-drugs.aspx\" keywordid=\"34732\" keywordsetid=\"8684\" object_type=\"wbmd_pb_page\">medications</a> to treat your pain. See also Warning section.</p>"
      ]
     },
     "execution_count": 90,
     "metadata": {},
     "output_type": "execute_result"
    }
   ],
   "source": [
    "sibs[-5]"
   ]
  },
  {
   "cell_type": "code",
   "execution_count": 62,
   "metadata": {},
   "outputs": [
    {
     "data": {
      "text/plain": [
       "['Ibuprofen',\n",
       " 'headache',\n",
       " 'menstrual cramps',\n",
       " 'arthritis',\n",
       " 'common cold',\n",
       " 'flu',\n",
       " 'inflammation',\n",
       " 'arthritis',\n",
       " 'medications',\n",
       " 'medication',\n",
       " 'pharmacist',\n",
       " 'ibuprofen',\n",
       " 'mouth',\n",
       " 'stomach',\n",
       " 'stomach',\n",
       " 'arthritis',\n",
       " 'weight',\n",
       " 'weight',\n",
       " 'arthritis',\n",
       " 'medications',\n",
       " 'signs of pain',\n",
       " 'What conditions does Ibuprofen treat?',\n",
       " 'Find Lowest Prices']"
      ]
     },
     "execution_count": 62,
     "metadata": {},
     "output_type": "execute_result"
    }
   ],
   "source": [
    "[link.text for link in y.findAll('a')]"
   ]
  },
  {
   "cell_type": "markdown",
   "metadata": {},
   "source": [
    "Action : 1 , Romance : 0, Drama : 1, Comedy: 0"
   ]
  },
  {
   "cell_type": "markdown",
   "metadata": {},
   "source": [
    "Action : 1, Romance:  0, Drama : 1, Comedy : 1"
   ]
  },
  {
   "cell_type": "code",
   "execution_count": null,
   "metadata": {},
   "outputs": [],
   "source": []
  }
 ],
 "metadata": {
  "kernelspec": {
   "display_name": "Python 3",
   "language": "python",
   "name": "python3"
  },
  "language_info": {
   "codemirror_mode": {
    "name": "ipython",
    "version": 3
   },
   "file_extension": ".py",
   "mimetype": "text/x-python",
   "name": "python",
   "nbconvert_exporter": "python",
   "pygments_lexer": "ipython3",
   "version": "3.6.5"
  }
 },
 "nbformat": 4,
 "nbformat_minor": 2
}
